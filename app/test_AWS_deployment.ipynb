{
 "cells": [
  {
   "cell_type": "code",
   "execution_count": 1,
   "metadata": {},
   "outputs": [],
   "source": [
    "## Python test file for flask to test locally\n",
    "import requests as r\n",
    "import pandas as pd\n",
    "import json"
   ]
  },
  {
   "cell_type": "code",
   "execution_count": 2,
   "metadata": {},
   "outputs": [
    {
     "name": "stdout",
     "output_type": "stream",
     "text": [
      "<Response [200]>\n",
      "...\n",
      "request successful\n",
      "...\n",
      "[1]\n"
     ]
    }
   ],
   "source": [
    "base_url =  'http://ec2-54-183-191-103.us-west-1.compute.amazonaws.com:5555/test' #base url local host\n",
    "\n",
    "json_data = {\n",
    "    \"ApplicantIncome\": 0.443788,\n",
    "    \"CoapplicantIncome\": 0.264515,\n",
    "    \"LoanAmount\": 0.46124,\n",
    "    \"LoanAmountTerm\": 0.74359,\n",
    "    \"Graduate\": 1,\n",
    "    \"SelfEmployed\": 0,\n",
    "    \"CreditHistory\": 1,\n",
    "    \"Gender_Female\": 0,\n",
    "    \"Gender_Male\": 1,\n",
    "    \"Gender_Unknown\": 0,\n",
    "    \"Married_No\": 0,\n",
    "    \"Married_Unknown\": 0,\n",
    "    \"Married_Yes\": 1,\n",
    "    \"Dependents_0\": 0,\n",
    "    \"Dependents_1\": 1,\n",
    "    \"Dependents_2\": 0,\n",
    "    \"Dependents_3\": 0,\n",
    "    \"PropertyArea_Rural\": 0,\n",
    "    \"PropertyArea_Semiurban\": 0,\n",
    "    \"PropertyArea_Urban\": 1\n",
    "}\n",
    "\n",
    "# Get Response\n",
    "# response = r.get(base_url)\n",
    "response = r.post(base_url, json = json_data)\n",
    "print(response)\n",
    "\n",
    "if response.status_code == 200:\n",
    "    print('...')\n",
    "    print('request successful')\n",
    "    print('...')\n",
    "    print(response.json())\n",
    "else:\n",
    "    print(response.json())\n",
    "    print('request failed')"
   ]
  },
  {
   "cell_type": "code",
   "execution_count": null,
   "metadata": {},
   "outputs": [],
   "source": []
  }
 ],
 "metadata": {
  "kernelspec": {
   "display_name": "env_tensorflow",
   "language": "python",
   "name": "python3"
  },
  "language_info": {
   "codemirror_mode": {
    "name": "ipython",
    "version": 3
   },
   "file_extension": ".py",
   "mimetype": "text/x-python",
   "name": "python",
   "nbconvert_exporter": "python",
   "pygments_lexer": "ipython3",
   "version": "3.10.9"
  },
  "orig_nbformat": 4
 },
 "nbformat": 4,
 "nbformat_minor": 2
}
